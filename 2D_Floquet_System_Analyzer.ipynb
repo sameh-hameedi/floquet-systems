{
 "cells": [
  {
   "cell_type": "code",
   "execution_count": 3,
   "metadata": {},
   "outputs": [],
   "source": [
    "import numpy as np"
   ]
  },
  {
   "cell_type": "markdown",
   "metadata": {},
   "source": [
    "### Introduction\n",
    "\n",
    "The following code will allow you to compute the Floquet exponents $\\mu_1(\\xi_1,\\xi_2)$ and $\\mu_2(\\xi_1,\\xi_2)$ of a 2-D dynamical system\n",
    "\n",
    "$$\\mathbf{\\dot{x}} = \\mathcal{H}(t,\\xi_1,\\xi_2)\\,\\mathbf{x}$$\n",
    "\n",
    "where $\\mathcal{H}(t)$ is a $T$-periodic matrix depending on parameters $(\\xi_1,\\xi_2)$."
   ]
  },
  {
   "cell_type": "markdown",
   "metadata": {},
   "source": [
    "### User Input: RHS of ODEs\n",
    "\n",
    "In the following block, simply enter the expressions $f_1(t,\\mathbf{x},\\xi_1,\\xi_2)$ and $f_2(t,\\mathbf{x},\\xi_1,\\xi_2)$ corresponding to the right hand sides of your ODEs.\n",
    "\n"
   ]
  },
  {
   "cell_type": "code",
   "execution_count": 25,
   "metadata": {},
   "outputs": [],
   "source": [
    "def func1(t,x1,x2,xi1,xi2):\n",
    "    return # Enter here\n",
    "\n",
    "def func2(t,x1,x2,xi1,xi2):\n",
    "    return # Enter here"
   ]
  },
  {
   "cell_type": "markdown",
   "metadata": {},
   "source": [
    "### User Input: ODE Integration Parameters\n",
    "\n",
    "Enter your desired stepside and the time interval to integrate the ODEs over."
   ]
  },
  {
   "cell_type": "code",
   "execution_count": 22,
   "metadata": {},
   "outputs": [],
   "source": [
    "h = 0.01\n",
    "timespan = 1"
   ]
  },
  {
   "cell_type": "markdown",
   "metadata": {},
   "source": [
    "### User Input: $(\\xi_1,\\xi_2)$ Range\n",
    "\n",
    "Enter the parameter range you wish to consider."
   ]
  },
  {
   "cell_type": "code",
   "execution_count": 4,
   "metadata": {},
   "outputs": [],
   "source": [
    "start = -1\n",
    "end = 1\n",
    "step = 0.1\n",
    "paramvals_ = np.arange(start, end, step)"
   ]
  },
  {
   "cell_type": "markdown",
   "metadata": {},
   "source": [
    "### Function Blocks"
   ]
  },
  {
   "cell_type": "code",
   "execution_count": 26,
   "metadata": {},
   "outputs": [],
   "source": [
    "def Solve_RK4(initval_1, initval_2, timespan, h, param1, param2):\n",
    "    \n",
    "    ### Integrating ODEs ###\n",
    "    \n",
    "    N = int(timespan / h)\n",
    "\n",
    "    t_ = np.ones(N)\n",
    "    sol1_ = np.ones(N, dtype=complex)\n",
    "    sol2_ = np.ones(N, dtype=complex)\n",
    "\n",
    "    t = 0\n",
    "    sol1 = initval_1\n",
    "    sol2 = initval_2\n",
    "\n",
    "    t_[0] = t\n",
    "    sol1_[0] = sol1\n",
    "    sol2_[0] = sol2\n",
    "    \n",
    "    for i in range(1, N):\n",
    "        \n",
    "        K1 = h*func1(t, sol1, sol2, param1, param2) \n",
    "        L1 = h*func2(t, sol1, sol2, param1, param2) \n",
    "\n",
    "        K2 = h*func1(t + 0.5*h, sol1 + 0.5*K1, sol2 + 0.5*L1, param1, param2)\n",
    "        L2 = h*func2(t + 0.5*h, sol1 + 0.5*K1, sol2 + 0.5*L1, param1, param2)\n",
    "\n",
    "        K3 = h*func1(t + 0.5*h, sol1 + 0.5*K2, sol2 + 0.5*L2, param1, param2)\n",
    "        L3 = h*func2(t + 0.5*h, sol1 + 0.5*K2, sol2 + 0.5*L2, param1, param2)\n",
    "\n",
    "        K4 = h*func1(t + h, sol1 + K3, sol2 + L3, param1, param2)\n",
    "        L4 = h*func2(t + h, sol1 + K3, sol2 + L3, param1, param2)\n",
    "\n",
    "        t =  i*h\n",
    "        sol1 += (K1 + 2*K2 + 2*K3 + K4)/6\n",
    "        sol2 += (L1 + 2*L2 + 2*L3 + L4)/6\n",
    "                \n",
    "        t_[i] = t\n",
    "        sol1_[i] = sol1\n",
    "        sol2_[i] = sol2\n",
    "\n",
    "    ### Getting initial and final solution vectors ###\n",
    "\n",
    "    sol0 = np.array([sol1_[0], sol2_[0]])\n",
    "    solT = np.array([sol1_[-1], sol2_[-1]])\n",
    "                    \n",
    "    return [t_, sol1_, sol2_, sol0, solT]"
   ]
  },
  {
   "cell_type": "code",
   "execution_count": 39,
   "metadata": {},
   "outputs": [],
   "source": [
    "def Floquet_Finder_2D(timespan, h, paramvals_):\n",
    "\n",
    "    start = time.time()\n",
    "\n",
    "    exp1_ = np.ones((len(zetavals_),len(zetavals_)), dtype=np.ndarray)\n",
    "    exp2_ = np.ones((len(zetavals_),len(zetavals_)), dtype=np.ndarray)\n",
    "\n",
    "    ### Integrating ODEs for the initial conditions [1,0] and [0,1] ###\n",
    "    ### Then, the monodromy matrix M = X(T) since X(0) = Id ###\n",
    "\n",
    "    for i, param1 in enumerate(paramvals_):\n",
    "        for j, param2 in enumerate(paramvals_):\n",
    "\n",
    "            results_1 = Solve_RK4(1, 0, timespan, h, param1, param2)\n",
    "            results_2 = Solve_RK4(0, 1, timespan, h, param1, param2)\n",
    "            \n",
    "            ### Constrcting monodromy matrix and computing Floquet exponents ###\n",
    "\n",
    "            x1T, x2T = results_1[5], results_2[5]\n",
    "            M = np.array([x1T, x2T])\n",
    "            M = XT.transpose()\n",
    "            \n",
    "            multipliers, eigvecs = np.linalg.eig(M)\n",
    "            exponents = np.array([phase(mult) for mult in multipliers]) # Sort exponents according to sign (positive, negative)\n",
    "            \n",
    "            exp1_[i,j] = (param1, param2, exponents[0])\n",
    "            exp2_[i,j] = (param1, param2, exponents[1])\n",
    "\n",
    "    end = time.time()\n",
    "    \n",
    "    print(end - start)\n",
    "    \n",
    "    return exp1_.ravel(), exp2_.ravel()"
   ]
  },
  {
   "cell_type": "markdown",
   "metadata": {},
   "source": [
    "### Execution Block"
   ]
  },
  {
   "cell_type": "code",
   "execution_count": null,
   "metadata": {},
   "outputs": [],
   "source": [
    "exponent1_, exponent2_ = Floquet_Finder_2D(timespan, h, paramvals_)"
   ]
  }
 ],
 "metadata": {
  "kernelspec": {
   "display_name": "Python 3",
   "language": "python",
   "name": "python3"
  },
  "language_info": {
   "codemirror_mode": {
    "name": "ipython",
    "version": 3
   },
   "file_extension": ".py",
   "mimetype": "text/x-python",
   "name": "python",
   "nbconvert_exporter": "python",
   "pygments_lexer": "ipython3",
   "version": "3.7.6"
  }
 },
 "nbformat": 4,
 "nbformat_minor": 2
}
